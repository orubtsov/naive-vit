{
 "cells": [
  {
   "cell_type": "code",
   "execution_count": 1,
   "id": "67e96ec1",
   "metadata": {},
   "outputs": [
    {
     "name": "stdout",
     "output_type": "stream",
     "text": [
      "Requirement already satisfied: datasets in /Users/admin/miniconda3/envs/flux-env/lib/python3.12/site-packages (3.5.0)\n",
      "Requirement already satisfied: einops in /Users/admin/miniconda3/envs/flux-env/lib/python3.12/site-packages (0.8.1)\n",
      "Requirement already satisfied: filelock in /Users/admin/miniconda3/envs/flux-env/lib/python3.12/site-packages (from datasets) (3.13.1)\n",
      "Requirement already satisfied: numpy>=1.17 in /Users/admin/miniconda3/envs/flux-env/lib/python3.12/site-packages (from datasets) (2.0.1)\n",
      "Requirement already satisfied: pyarrow>=15.0.0 in /Users/admin/miniconda3/envs/flux-env/lib/python3.12/site-packages (from datasets) (19.0.1)\n",
      "Requirement already satisfied: dill<0.3.9,>=0.3.0 in /Users/admin/miniconda3/envs/flux-env/lib/python3.12/site-packages (from datasets) (0.3.8)\n",
      "Requirement already satisfied: pandas in /Users/admin/miniconda3/envs/flux-env/lib/python3.12/site-packages (from datasets) (2.2.3)\n",
      "Requirement already satisfied: requests>=2.32.2 in /Users/admin/miniconda3/envs/flux-env/lib/python3.12/site-packages (from datasets) (2.32.3)\n",
      "Requirement already satisfied: tqdm>=4.66.3 in /Users/admin/miniconda3/envs/flux-env/lib/python3.12/site-packages (from datasets) (4.67.1)\n",
      "Requirement already satisfied: xxhash in /Users/admin/miniconda3/envs/flux-env/lib/python3.12/site-packages (from datasets) (3.5.0)\n",
      "Requirement already satisfied: multiprocess<0.70.17 in /Users/admin/miniconda3/envs/flux-env/lib/python3.12/site-packages (from datasets) (0.70.16)\n",
      "Requirement already satisfied: fsspec<=2024.12.0,>=2023.1.0 in /Users/admin/miniconda3/envs/flux-env/lib/python3.12/site-packages (from fsspec[http]<=2024.12.0,>=2023.1.0->datasets) (2024.12.0)\n",
      "Requirement already satisfied: aiohttp in /Users/admin/miniconda3/envs/flux-env/lib/python3.12/site-packages (from datasets) (3.11.16)\n",
      "Requirement already satisfied: huggingface-hub>=0.24.0 in /Users/admin/miniconda3/envs/flux-env/lib/python3.12/site-packages (from datasets) (0.29.3)\n",
      "Requirement already satisfied: packaging in /Users/admin/miniconda3/envs/flux-env/lib/python3.12/site-packages (from datasets) (24.2)\n",
      "Requirement already satisfied: pyyaml>=5.1 in /Users/admin/miniconda3/envs/flux-env/lib/python3.12/site-packages (from datasets) (6.0.2)\n",
      "Requirement already satisfied: aiohappyeyeballs>=2.3.0 in /Users/admin/miniconda3/envs/flux-env/lib/python3.12/site-packages (from aiohttp->datasets) (2.6.1)\n",
      "Requirement already satisfied: aiosignal>=1.1.2 in /Users/admin/miniconda3/envs/flux-env/lib/python3.12/site-packages (from aiohttp->datasets) (1.3.2)\n",
      "Requirement already satisfied: attrs>=17.3.0 in /Users/admin/miniconda3/envs/flux-env/lib/python3.12/site-packages (from aiohttp->datasets) (25.3.0)\n",
      "Requirement already satisfied: frozenlist>=1.1.1 in /Users/admin/miniconda3/envs/flux-env/lib/python3.12/site-packages (from aiohttp->datasets) (1.5.0)\n",
      "Requirement already satisfied: multidict<7.0,>=4.5 in /Users/admin/miniconda3/envs/flux-env/lib/python3.12/site-packages (from aiohttp->datasets) (6.3.2)\n",
      "Requirement already satisfied: propcache>=0.2.0 in /Users/admin/miniconda3/envs/flux-env/lib/python3.12/site-packages (from aiohttp->datasets) (0.3.1)\n",
      "Requirement already satisfied: yarl<2.0,>=1.17.0 in /Users/admin/miniconda3/envs/flux-env/lib/python3.12/site-packages (from aiohttp->datasets) (1.19.0)\n",
      "Requirement already satisfied: idna>=2.0 in /Users/admin/miniconda3/envs/flux-env/lib/python3.12/site-packages (from yarl<2.0,>=1.17.0->aiohttp->datasets) (3.7)\n",
      "Requirement already satisfied: typing-extensions>=3.7.4.3 in /Users/admin/miniconda3/envs/flux-env/lib/python3.12/site-packages (from huggingface-hub>=0.24.0->datasets) (4.12.2)\n",
      "Requirement already satisfied: charset-normalizer<4,>=2 in /Users/admin/miniconda3/envs/flux-env/lib/python3.12/site-packages (from requests>=2.32.2->datasets) (3.3.2)\n",
      "Requirement already satisfied: urllib3<3,>=1.21.1 in /Users/admin/miniconda3/envs/flux-env/lib/python3.12/site-packages (from requests>=2.32.2->datasets) (2.3.0)\n",
      "Requirement already satisfied: certifi>=2017.4.17 in /Users/admin/miniconda3/envs/flux-env/lib/python3.12/site-packages (from requests>=2.32.2->datasets) (2025.1.31)\n",
      "Requirement already satisfied: python-dateutil>=2.8.2 in /Users/admin/miniconda3/envs/flux-env/lib/python3.12/site-packages (from pandas->datasets) (2.9.0.post0)\n",
      "Requirement already satisfied: pytz>=2020.1 in /Users/admin/miniconda3/envs/flux-env/lib/python3.12/site-packages (from pandas->datasets) (2025.1)\n",
      "Requirement already satisfied: tzdata>=2022.7 in /Users/admin/miniconda3/envs/flux-env/lib/python3.12/site-packages (from pandas->datasets) (2025.1)\n",
      "Requirement already satisfied: six>=1.5 in /Users/admin/miniconda3/envs/flux-env/lib/python3.12/site-packages (from python-dateutil>=2.8.2->pandas->datasets) (1.17.0)\n"
     ]
    }
   ],
   "source": [
    "!pip install datasets einops"
   ]
  },
  {
   "cell_type": "code",
   "execution_count": 1,
   "id": "c34a23e2",
   "metadata": {},
   "outputs": [],
   "source": [
    "import sys\n",
    "from pathlib import Path\n",
    "\n",
    "project_root = Path().resolve().parent\n",
    "sys.path.append(str(project_root))\n",
    "\n",
    "from models import NotViT"
   ]
  },
  {
   "cell_type": "code",
   "execution_count": 2,
   "id": "55fed1b8",
   "metadata": {},
   "outputs": [
    {
     "name": "stderr",
     "output_type": "stream",
     "text": [
      "/Users/admin/miniconda3/envs/flux-env/lib/python3.12/site-packages/tqdm/auto.py:21: TqdmWarning: IProgress not found. Please update jupyter and ipywidgets. See https://ipywidgets.readthedocs.io/en/stable/user_install.html\n",
      "  from .autonotebook import tqdm as notebook_tqdm\n"
     ]
    }
   ],
   "source": [
    "from datasets import load_dataset\n",
    "\n",
    "# ds = load_dataset(\"svjack/pokemon-blip-captions-en-zh\")['train']\n",
    "ds = load_dataset(\"uoft-cs/cifar10\")\n",
    "test = ds['test']\n",
    "ds = ds['train']"
   ]
  },
  {
   "cell_type": "code",
   "execution_count": 3,
   "id": "0f80e830",
   "metadata": {},
   "outputs": [
    {
     "data": {
      "text/plain": [
       "<torch._C.Generator at 0x11d6a0a10>"
      ]
     },
     "execution_count": 3,
     "metadata": {},
     "output_type": "execute_result"
    }
   ],
   "source": [
    "import matplotlib.pyplot as plt\n",
    "import math\n",
    "import cv2\n",
    "import numpy as np\n",
    "from PIL import Image\n",
    "from einops import rearrange\n",
    "from einops.layers.torch import Rearrange\n",
    "\n",
    "import torch\n",
    "import torch.nn as nn\n",
    "\n",
    "from torchvision import transforms as ts\n",
    "\n",
    "torch.manual_seed(42)"
   ]
  },
  {
   "cell_type": "code",
   "execution_count": 4,
   "id": "259fe2e9",
   "metadata": {},
   "outputs": [
    {
     "data": {
      "text/plain": [
       "<matplotlib.image.AxesImage at 0x35d827980>"
      ]
     },
     "execution_count": 4,
     "metadata": {},
     "output_type": "execute_result"
    },
    {
     "data": {
      "image/png": "[encoded data removed]",
      "text/plain": [
       "<Figure size 640x480 with 1 Axes>"
      ]
     },
     "metadata": {},
     "output_type": "display_data"
    }
   ],
   "source": [
    "sample_img, label = ds[0].values()\n",
    "plt.imshow(sample_img)"
   ]
  },
  {
   "cell_type": "code",
   "execution_count": 5,
   "id": "c6bfa9dc",
   "metadata": {},
   "outputs": [],
   "source": [
    "PATCH_SIZE = 4\n",
    "BATCH_SIZE = 16\n",
    "EMBEDDING_SIZE = 128\n",
    "HEIGHT = 32             # for now\n",
    "WIDTH = 32              # for now\n",
    "\n",
    "EPOCHS = 1              \n",
    "LEARNING_RATE = 1e-3"
   ]
  },
  {
   "cell_type": "code",
   "execution_count": 6,
   "id": "a8b21154",
   "metadata": {},
   "outputs": [],
   "source": [
    "def ts_resize(examples):\n",
    "    examples[\"pixel_values\"] = [image.convert(\"RGB\").resize((WIDTH,HEIGHT)) for image in examples[\"img\"]]\n",
    "    return examples\n",
    "\n",
    "ds = ds.map(ts_resize, remove_columns=[\"img\"], batched=True)\n",
    "test = test.map(ts_resize, remove_columns=[\"img\"], batched=True)"
   ]
  },
  {
   "cell_type": "code",
   "execution_count": 7,
   "id": "82233540",
   "metadata": {},
   "outputs": [],
   "source": [
    "def transforms(examples):\n",
    "    examples[\"pixel_values\"] = [ts.ToTensor()(image.convert(\"RGB\")) for image in examples[\"pixel_values\"]]\n",
    "    return examples\n",
    "\n",
    "ds = ds.with_transform(transforms)\n",
    "test = test.with_transform(transforms)"
   ]
  },
  {
   "cell_type": "code",
   "execution_count": 8,
   "id": "f36bae9f",
   "metadata": {},
   "outputs": [],
   "source": [
    "from torch.utils.data import DataLoader\n",
    "\n",
    "def collate_fn(examples):\n",
    "    images = []\n",
    "    labels = []\n",
    "    for example in examples:\n",
    "        images.append((example[\"pixel_values\"]))\n",
    "        labels.append(example[\"label\"])\n",
    "\n",
    "    pixel_values = torch.stack(images)\n",
    "    labels = torch.tensor(labels)\n",
    "    return {\"pixel_values\": pixel_values, \"label\": labels}\n",
    "\n",
    "dataloader = DataLoader(ds, collate_fn=collate_fn, batch_size=BATCH_SIZE)\n",
    "\n",
    "test_loader = DataLoader(test, collate_fn=collate_fn, batch_size=BATCH_SIZE)"
   ]
  },
  {
   "cell_type": "code",
   "execution_count": 9,
   "id": "acf2e00b",
   "metadata": {},
   "outputs": [],
   "source": [
    "device = 'cuda' if torch.cuda.is_available() else 'cpu'\n",
    "loss_fn = nn.CrossEntropyLoss()\n",
    "# As far as we have 10 classes,  estimated CE loss has to be approx. 2.3\n",
    "vit = NotViT(embed_size=EMBEDDING_SIZE,\n",
    "                input_h=HEIGHT,\n",
    "                input_w=WIDTH,\n",
    "                ).to(device)\n",
    "\n",
    "optimizer = torch.optim.AdamW(vit.parameters(), lr=LEARNING_RATE)"
   ]
  },
  {
   "cell_type": "code",
   "execution_count": 10,
   "id": "0c6e31ea",
   "metadata": {},
   "outputs": [
    {
     "name": "stderr",
     "output_type": "stream",
     "text": [
      "                                                                                      "
     ]
    },
    {
     "name": "stdout",
     "output_type": "stream",
     "text": [
      "Train | Loss: 1.9287\n",
      "Val | Loss: 1.8016\n"
     ]
    },
    {
     "name": "stderr",
     "output_type": "stream",
     "text": [
      "\r"
     ]
    }
   ],
   "source": [
    "from tqdm import tqdm\n",
    "\n",
    "for epoch in range(EPOCHS):\n",
    "    vit.train()\n",
    "    train_losses = []\n",
    "\n",
    "    train_bar = tqdm(dataloader, desc=f\"[Epoch {epoch+1}/{EPOCHS}] Train | Loss: ---\", leave=False)\n",
    "\n",
    "    for batch in train_bar:\n",
    "        optimizer.zero_grad()\n",
    "\n",
    "        imgs = batch['pixel_values'].to(device)\n",
    "        targets = batch['label'].to(device)\n",
    "\n",
    "        outputs = vit(imgs)\n",
    "        loss = loss_fn(outputs, targets)\n",
    "\n",
    "        loss.backward()\n",
    "        optimizer.step()\n",
    "\n",
    "        train_losses.append(loss.item())\n",
    "        avg_train_loss = sum(train_losses) / len(train_losses)\n",
    "\n",
    "        # Обновляем описание прогресс-бара\n",
    "        train_bar.set_description(f\"[Epoch {epoch+1}/{EPOCHS}] Train | Loss: {avg_train_loss:.4f}\")\n",
    "\n",
    "    # Валидация после эпохи\n",
    "    vit.eval()\n",
    "    val_losses = []\n",
    "\n",
    "    val_bar = tqdm(test_loader, desc=f\"[Epoch {epoch+1}/{EPOCHS}] Val   | Loss: ---\", leave=False)\n",
    "    with torch.no_grad():\n",
    "        for val_batch in val_bar:\n",
    "            val_imgs = val_batch['pixel_values'].to(device)\n",
    "            val_targets = val_batch['label'].to(device)\n",
    "\n",
    "            val_output = vit(val_imgs)\n",
    "            val_loss = loss_fn(val_output, val_targets)\n",
    "\n",
    "            val_losses.append(val_loss.item())\n",
    "            avg_val_loss = sum(val_losses) / len(val_losses)\n",
    "\n",
    "            val_bar.set_description(f\"[Epoch {epoch+1}/{EPOCHS}] Val   | Loss: {avg_val_loss:.4f}\")\n",
    "\n",
    "print(f\"Train | Loss: {avg_train_loss:.4f}\")\n",
    "print(f\"Val | Loss: {avg_val_loss:.4f}\")"
   ]
  },
  {
   "cell_type": "code",
   "execution_count": null,
   "id": "37383686",
   "metadata": {},
   "outputs": [],
   "source": []
  }
 ],
 "metadata": {
  "kernelspec": {
   "display_name": "flux-env",
   "language": "python",
   "name": "python3"
  },
  "language_info": {
   "codemirror_mode": {
    "name": "ipython",
    "version": 3
   },
   "file_extension": ".py",
   "mimetype": "text/x-python",
   "name": "python",
   "nbconvert_exporter": "python",
   "pygments_lexer": "ipython3",
   "version": "3.12.9"
  }
 },
 "nbformat": 4,
 "nbformat_minor": 5
}
